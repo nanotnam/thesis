{
  "nbformat": 4,
  "nbformat_minor": 0,
  "metadata": {
    "colab": {
      "provenance": [],
      "machine_shape": "hm",
      "gpuType": "L4",
      "authorship_tag": "ABX9TyPHCid1k0NLx32RLJ6dL0pv",
      "include_colab_link": true
    },
    "kernelspec": {
      "name": "python3",
      "display_name": "Python 3"
    },
    "language_info": {
      "name": "python"
    },
    "accelerator": "GPU"
  },
  "cells": [
    {
      "cell_type": "markdown",
      "metadata": {
        "id": "view-in-github",
        "colab_type": "text"
      },
      "source": [
        "<a href=\"https://colab.research.google.com/github/nanotnam/thesis/blob/main/thesisUNETPP.ipynb\" target=\"_parent\"><img src=\"https://colab.research.google.com/assets/colab-badge.svg\" alt=\"Open In Colab\"/></a>"
      ]
    },
    {
      "cell_type": "code",
      "execution_count": null,
      "metadata": {
        "colab": {
          "base_uri": "https://localhost:8080/"
        },
        "id": "rSJPDiGVFSUL",
        "outputId": "575f2f32-a9c8-4e7c-a1fc-50188ced241a"
      },
      "outputs": [
        {
          "output_type": "stream",
          "name": "stdout",
          "text": [
            "Fri Jun 28 00:51:34 2024       \n",
            "+---------------------------------------------------------------------------------------+\n",
            "| NVIDIA-SMI 535.104.05             Driver Version: 535.104.05   CUDA Version: 12.2     |\n",
            "|-----------------------------------------+----------------------+----------------------+\n",
            "| GPU  Name                 Persistence-M | Bus-Id        Disp.A | Volatile Uncorr. ECC |\n",
            "| Fan  Temp   Perf          Pwr:Usage/Cap |         Memory-Usage | GPU-Util  Compute M. |\n",
            "|                                         |                      |               MIG M. |\n",
            "|=========================================+======================+======================|\n",
            "|   0  NVIDIA L4                      Off | 00000000:00:03.0 Off |                    0 |\n",
            "| N/A   37C    P8              11W /  72W |      1MiB / 23034MiB |      0%      Default |\n",
            "|                                         |                      |                  N/A |\n",
            "+-----------------------------------------+----------------------+----------------------+\n",
            "                                                                                         \n",
            "+---------------------------------------------------------------------------------------+\n",
            "| Processes:                                                                            |\n",
            "|  GPU   GI   CI        PID   Type   Process name                            GPU Memory |\n",
            "|        ID   ID                                                             Usage      |\n",
            "|=======================================================================================|\n",
            "|  No running processes found                                                           |\n",
            "+---------------------------------------------------------------------------------------+\n"
          ]
        }
      ],
      "source": [
        "!nvidia-smi"
      ]
    },
    {
      "cell_type": "code",
      "source": [
        "from google.colab import drive\n",
        "drive.mount('/content/drive', force_remount=True)"
      ],
      "metadata": {
        "colab": {
          "base_uri": "https://localhost:8080/"
        },
        "id": "hM8r9rIDR_Qr",
        "outputId": "6fb2467d-f2bc-47cf-c3c4-f6e11ed54a99"
      },
      "execution_count": null,
      "outputs": [
        {
          "output_type": "stream",
          "name": "stdout",
          "text": [
            "Mounted at /content/drive\n"
          ]
        }
      ]
    },
    {
      "cell_type": "code",
      "source": [
        "import zipfile\n",
        "\n",
        "with zipfile.ZipFile(\"/content/drive/MyDrive/thesis_data/train_finall.zip\", 'r') as zip_ref:\n",
        "    zip_ref.extractall('train_set')"
      ],
      "metadata": {
        "id": "y3whdt4xSBva"
      },
      "execution_count": null,
      "outputs": []
    },
    {
      "cell_type": "code",
      "source": [
        "import os\n",
        "from PIL import Image\n",
        "import torch\n",
        "from torch.utils.data import Dataset, DataLoader, random_split\n",
        "from torchvision import transforms\n",
        "import torch.nn as nn\n",
        "import torch.optim as optim\n",
        "import torch.nn.functional as F\n",
        "import numpy as np\n",
        "import matplotlib.pyplot as plt\n",
        "from sklearn.metrics import f1_score\n",
        "from torch.optim.lr_scheduler import ReduceLROnPlateau"
      ],
      "metadata": {
        "id": "K2l4639bF1fk"
      },
      "execution_count": null,
      "outputs": []
    },
    {
      "cell_type": "code",
      "source": [
        "class BuildingDamageDataset(Dataset):\n",
        "    def __init__(self, pre_dir, post_dir, seg_pre, seg_post, damage, transform=None):\n",
        "        self.pre_dir = pre_dir\n",
        "        self.post_dir = post_dir\n",
        "        self.seg_pre = seg_pre\n",
        "        self.seg_post = seg_post\n",
        "        self.damage = damage\n",
        "        self.transform = transform\n",
        "        self.image_ids = [file for file in os.listdir(pre_dir) if file.endswith('.png')]\n",
        "\n",
        "    def __len__(self):\n",
        "        return len(self.image_ids)\n",
        "\n",
        "    def __getitem__(self, idx):\n",
        "        if torch.is_tensor(idx):\n",
        "            idx = idx.tolist()\n",
        "\n",
        "        image_id = self.image_ids[idx]\n",
        "\n",
        "        pre_image = Image.open(os.path.join(self.pre_dir, image_id)).convert('RGB')\n",
        "        post_image = Image.open(os.path.join(self.post_dir, image_id)).convert('RGB')\n",
        "        seg_pre_image = Image.open(os.path.join(self.seg_pre, image_id)).convert('L')\n",
        "        seg_post_image = Image.open(os.path.join(self.seg_post, image_id)).convert('L')\n",
        "        damage = Image.open(os.path.join(self.damage, image_id)).convert('L')  # Load as grayscale\n",
        "\n",
        "        if self.transform:\n",
        "            pre_image = self.transform(pre_image)\n",
        "            post_image = self.transform(post_image)\n",
        "        seg_pre_image = self._process_seg_image(seg_pre_image)\n",
        "        seg_post_image = self._process_seg_image(seg_post_image)\n",
        "        damage = self._process_gt_image(damage)\n",
        "\n",
        "        return {'pre_image': pre_image, 'post_image': post_image, 'pre_mask': seg_pre_image, 'post_mask': seg_post_image, 'damage': damage}\n",
        "\n",
        "    def _process_gt_image(self, gt_image):\n",
        "        gt_image = np.array(gt_image)\n",
        "        gt_image = torch.tensor(gt_image, dtype=torch.long)\n",
        "        gt_image = gt_image - 1\n",
        "        return gt_image\n",
        "\n",
        "    def _process_seg_image(self, seg_image):\n",
        "        seg_image = np.array(seg_image)\n",
        "        seg_image = torch.tensor(seg_image, dtype=torch.long)\n",
        "        return seg_image\n",
        "\n",
        "# Define transformations\n",
        "data_transforms = transforms.Compose([\n",
        "  transforms.ToTensor(),\n",
        "])"
      ],
      "metadata": {
        "id": "ADNYr6aG93aw"
      },
      "execution_count": null,
      "outputs": []
    },
    {
      "cell_type": "code",
      "source": [
        "class ConvBlock(nn.Module):\n",
        "    def __init__(self, in_channels, out_channels):\n",
        "        super().__init__()\n",
        "        self.conv1 = nn.Conv2d(in_channels, out_channels, kernel_size=3, padding=1)\n",
        "        self.bn1 = nn.BatchNorm2d(out_channels)\n",
        "        self.relu1 = nn.ReLU(inplace=True)\n",
        "        self.conv2 = nn.Conv2d(out_channels, out_channels, kernel_size=3, padding=1)\n",
        "        self.bn2 = nn.BatchNorm2d(out_channels)\n",
        "        self.relu2 = nn.ReLU(inplace=True)\n",
        "\n",
        "    def forward(self, x):\n",
        "        x = self.conv1(x)\n",
        "        x = self.bn1(x)\n",
        "        x = self.relu1(x)\n",
        "        x = self.conv2(x)\n",
        "        x = self.bn2(x)\n",
        "        x = self.relu2(x)\n",
        "        return x\n",
        "\n",
        "class UNetPlusPlus(nn.Module):\n",
        "    def __init__(self, in_channels, num_classes):\n",
        "        super().__init__()\n",
        "\n",
        "        self.encoder1 = ConvBlock(in_channels, 16)\n",
        "        self.encoder2 = ConvBlock(16, 32)\n",
        "        self.encoder3 = ConvBlock(32, 64)\n",
        "        self.encoder4 = ConvBlock(64, 128)\n",
        "        self.encoder5 = ConvBlock(128, 256)\n",
        "\n",
        "        self.pool = nn.MaxPool2d(2)\n",
        "\n",
        "        self.upconv2 = nn.ConvTranspose2d(32, 16, 2, stride=2)\n",
        "        self.upconv3 = nn.ConvTranspose2d(64, 32, 2, stride=2)\n",
        "        self.upconv4 = nn.ConvTranspose2d(128, 64, 2, stride=2)\n",
        "        self.upconv5 = nn.ConvTranspose2d(256, 128, 2, stride=2)\n",
        "\n",
        "        self.decoder1_1 = ConvBlock(32, 16)\n",
        "        self.decoder2_1 = ConvBlock(64, 32)\n",
        "        self.decoder3_1 = ConvBlock(128, 64)\n",
        "        self.decoder4_1 = ConvBlock(256, 128)\n",
        "\n",
        "        self.decoder1_2 = ConvBlock(48, 16)\n",
        "        self.decoder2_2 = ConvBlock(96, 32)\n",
        "        self.decoder3_2 = ConvBlock(192, 64)\n",
        "\n",
        "        self.decoder1_3 = ConvBlock(64, 16)\n",
        "        self.decoder2_3 = ConvBlock(128, 32)\n",
        "\n",
        "        self.decoder1_4 = ConvBlock(80, 16)\n",
        "\n",
        "        self.final_conv = nn.Conv2d(16, num_classes, kernel_size=1)\n",
        "\n",
        "\n",
        "    def forward(self, x):\n",
        "        x_00 = self.encoder1(x)\n",
        "        x_10 = self.encoder2(self.pool(x_00))\n",
        "        x_20 = self.encoder3(self.pool(x_10))\n",
        "        x_30 = self.encoder4(self.pool(x_20))\n",
        "        x_40 = self.encoder5(self.pool(x_30))\n",
        "\n",
        "        x_01 = self.decoder1_1(torch.cat([x_00, self.upconv2(x_10)], dim=1))\n",
        "        x_11 = self.decoder2_1(torch.cat([x_10, self.upconv3(x_20)], dim=1))\n",
        "        x_21 = self.decoder3_1(torch.cat([x_20, self.upconv4(x_30)], dim=1))\n",
        "        x_31 = self.decoder4_1(torch.cat([x_30, self.upconv5(x_40)], dim=1))\n",
        "\n",
        "        x_02 = self.decoder1_2(torch.cat([x_00, x_01, self.upconv2(x_11)], dim=1))\n",
        "        x_12 = self.decoder2_2(torch.cat([x_10, x_11, self.upconv3(x_21)], dim=1))\n",
        "        x_22 = self.decoder3_2(torch.cat([x_20, x_21, self.upconv4(x_31)], dim=1))\n",
        "\n",
        "        x_03 = self.decoder1_3(torch.cat([x_00, x_01, x_02, self.upconv2(x_12)], dim=1))\n",
        "        x_13 = self.decoder2_3(torch.cat([x_10, x_11, x_12, self.upconv3(x_22)], dim=1))\n",
        "\n",
        "        x_04 = self.decoder1_4(torch.cat([x_00, x_01, x_02, x_03, self.upconv2(x_13)], dim=1))\n",
        "\n",
        "        return self.final_conv(x_04)"
      ],
      "metadata": {
        "id": "1GiidqFz9RN2"
      },
      "execution_count": null,
      "outputs": []
    },
    {
      "cell_type": "code",
      "source": [
        "class PrePostUNetPlusPlus(nn.Module):\n",
        "    def __init__(self, in_channels, num_classes):\n",
        "        super().__init__()\n",
        "        self.unet = UNetPlusPlus(in_channels, num_classes)\n",
        "        self.damage_head = nn.Sequential(\n",
        "            nn.Conv2d(4, 16, 3, padding=1),\n",
        "            nn.BatchNorm2d(16),\n",
        "            nn.ReLU(inplace=True),\n",
        "            nn.Conv2d(16, num_classes, 3, padding=1),\n",
        "            nn.BatchNorm2d(num_classes),\n",
        "            nn.ReLU(inplace=True)\n",
        "        )\n",
        "\n",
        "    def forward(self, pre_image, post_image):\n",
        "        out1 = self.unet(pre_image)\n",
        "        out2 = self.unet(post_image)\n",
        "        out = self.damage_head(torch.cat((out1, out2), dim=1))\n",
        "        return out1, out2, out"
      ],
      "metadata": {
        "id": "BIP0Dgxg9KhT"
      },
      "execution_count": null,
      "outputs": []
    },
    {
      "cell_type": "code",
      "source": [
        "# Initialize dataset\n",
        "train_pre_dir = '/content/train_set/pre'\n",
        "train_post_dir = '/content/train_set/post'\n",
        "train_seg_pre = '/content/train_set/seg_pre'\n",
        "train_seg_post = '/content/train_set/seg_post'\n",
        "train_damage = '/content/train_set/damage'"
      ],
      "metadata": {
        "id": "kj1_4nDz97vH"
      },
      "execution_count": null,
      "outputs": []
    },
    {
      "cell_type": "code",
      "source": [
        "dataset = BuildingDamageDataset(train_pre_dir, train_post_dir, train_seg_pre, train_seg_post, train_damage, transform=data_transforms)\n",
        "train_size = int(0.8 * len(dataset))\n",
        "test_size = len(dataset) - train_size\n",
        "generator1 = torch.Generator().manual_seed(42)\n",
        "# Split the dataset\n",
        "train_dataset, test_dataset = torch.utils.data.random_split(dataset, [train_size, test_size], generator=generator1)\n",
        "train_loader = torch.utils.data.DataLoader(train_dataset, batch_size=32, shuffle=True, num_workers=4)\n",
        "test_loader = torch.utils.data.DataLoader(test_dataset, batch_size=32, shuffle=False, num_workers=4)\n",
        "\n",
        "\n",
        "# Define the model (assuming UNet from the previous implementation)\n",
        "model = PrePostUNetPlusPlus(in_channels=3, num_classes=2)\n",
        "device = torch.device('cuda' if torch.cuda.is_available() else 'cpu')\n",
        "model.to(device)\n",
        "\n",
        "class_weights = [0.16549766, 0.83450234]\n",
        "\n",
        "# Convert weights to a tensor\n",
        "class_weights_tensor = torch.FloatTensor(class_weights).to(device)\n",
        "\n",
        "# Define loss function and optimizer\n",
        "loss_fn = nn.CrossEntropyLoss(weight=class_weights_tensor, ignore_index = -1)\n",
        "optimizer = optim.Adam(model.parameters(), lr=0.001)\n",
        "scheduler = ReduceLROnPlateau(optimizer, mode='min', factor=0.2, patience=3, min_lr=0.00001)"
      ],
      "metadata": {
        "id": "-0C5LT2k98yr"
      },
      "execution_count": null,
      "outputs": []
    },
    {
      "cell_type": "code",
      "source": [
        "num_epochs = 15\n",
        "train_losses = []\n",
        "val_losses = []\n",
        "for epoch in range(num_epochs):\n",
        "  model.train()\n",
        "  running_loss = 0.0\n",
        "  for batch_idx, batch in enumerate(train_loader):\n",
        "    pre_images = batch['pre_image'].to(device)\n",
        "    post_images = batch['post_image'].to(device)\n",
        "    seg_pre_images = batch['pre_mask'].to(device).long().squeeze(1)\n",
        "    seg_post_images = batch['post_mask'].to(device).long().squeeze(1)\n",
        "    damage = batch['damage'].to(device).long().squeeze(1)  # Convert gt_images to long\n",
        "\n",
        "    # Forward pass\n",
        "    out1, out2, out = model(pre_images, post_images)\n",
        "\n",
        "    # Calculate loss\n",
        "    loss1 = loss_fn(out1, seg_pre_images)\n",
        "    loss2 = loss_fn(out2, seg_post_images)\n",
        "    damage_loss = loss_fn(out, damage)\n",
        "\n",
        "    loss = loss1 + loss2 + damage_loss\n",
        "\n",
        "    # if torch.isnan(loss):\n",
        "    #   print('NaN detected in loss')\n",
        "    #   break\n",
        "    running_loss += loss.item()\n",
        "\n",
        "    optimizer.zero_grad()\n",
        "\n",
        "    # Backward pass and optimize\n",
        "    loss.backward()\n",
        "\n",
        "    optimizer.step()\n",
        "\n",
        "    # if (batch_idx + 1) % 10 == 0:  # Print progress every 100 batches\n",
        "    #   print(f'looked at [{batch_idx + 1}/{len(train_loader)}], Loss: {loss.item()}')\n",
        "\n",
        "\n",
        "  epoch_loss = running_loss / len(train_loader)\n",
        "  print(f'Epoch [{epoch + 1}/{num_epochs}], train Loss: {epoch_loss}')\n",
        "  train_losses.append(epoch_loss)\n",
        "  # Validation loop\n",
        "  model.eval()\n",
        "  val_running_loss = 0.0\n",
        "  dam_f1 = 0\n",
        "\n",
        "  with torch.inference_mode():\n",
        "    for batch in test_loader:\n",
        "      val_pre_images = batch['pre_image'].to(device)\n",
        "      val_post_images = batch['post_image'].to(device)\n",
        "      val_seg_pre_images = batch['pre_mask'].to(device).long().squeeze(1)\n",
        "      val_seg_post_images = batch['post_mask'].to(device).long().squeeze(1)\n",
        "      val_damage = batch['damage'].to(device).long().squeeze(1)  # Convert gt_images to long\n",
        "\n",
        "      val_out1, val_out2, val_out = model(val_pre_images, val_post_images)\n",
        "      val_loss1 = loss_fn(val_out1, val_seg_pre_images)\n",
        "      val_loss2 = loss_fn(val_out2, val_seg_post_images)\n",
        "      val_damage_loss = loss_fn(val_out, val_damage)\n",
        "\n",
        "      val_loss = val_loss1 + val_loss2 + val_damage_loss\n",
        "      val_running_loss += val_loss.item()\n",
        "\n",
        "      # Calculate the accuracies\n",
        "\n",
        "      pred_labels_damage = torch.argmax(val_out, dim=1).squeeze().cpu().numpy().flatten()\n",
        "      truth_labels_damage = val_damage.cpu().numpy().flatten()\n",
        "\n",
        "      damage_f1 = f1_score(truth_labels_damage[truth_labels_damage != -1], pred_labels_damage[truth_labels_damage != -1], labels = [0, 1], average=None, zero_division = 0)\n",
        "\n",
        "      dam_f1 += damage_f1\n",
        "  scheduler.step(val_running_loss)\n",
        "  avg_val_loss = val_running_loss / len(test_loader)\n",
        "  val_losses.append(avg_val_loss)\n",
        "  overall_f1 = dam_f1/len(test_loader)\n",
        "\n",
        "  print(f'Epoch [{epoch + 1}/{num_epochs}], test Loss: {avg_val_loss}')\n",
        "  print('\\t\\tAverage Damage f1 score:')\n",
        "  for i, f1 in enumerate(overall_f1):\n",
        "    print(f'\\t\\t\\tClass {i}: {f1}')\n",
        "  print(f'\\t\\tMean Damage f1 score: {np.mean(overall_f1)}')\n"
      ],
      "metadata": {
        "colab": {
          "base_uri": "https://localhost:8080/"
        },
        "outputId": "322a482d-fb4e-48e2-d98c-af680be48cfb",
        "id": "7b8L3pqeTBlg"
      },
      "execution_count": null,
      "outputs": [
        {
          "output_type": "stream",
          "name": "stdout",
          "text": [
            "Epoch [1/15], train Loss: 1.0567430676562992\n",
            "Epoch [1/15], test Loss: 0.9602670658706853\n",
            "\t\tAverage Damage f1 score:\n",
            "\t\t\tClass 0: 0.9203313620074729\n",
            "\t\t\tClass 1: 0.5328275630837392\n",
            "\t\tMean Damage f1 score: 0.7265794625456061\n",
            "Epoch [2/15], train Loss: 0.8257681976081475\n",
            "Epoch [2/15], test Loss: 0.8306162574944711\n",
            "\t\tAverage Damage f1 score:\n",
            "\t\t\tClass 0: 0.8751352817185933\n",
            "\t\t\tClass 1: 0.5298522165092371\n",
            "\t\tMean Damage f1 score: 0.7024937491139152\n",
            "Epoch [3/15], train Loss: 0.7362028754377161\n",
            "Epoch [3/15], test Loss: 0.7419943885450956\n",
            "\t\tAverage Damage f1 score:\n",
            "\t\t\tClass 0: 0.8979418496319955\n",
            "\t\t\tClass 1: 0.5736248771600152\n",
            "\t\tMean Damage f1 score: 0.7357833633960054\n",
            "Epoch [4/15], train Loss: 0.6770555955005484\n",
            "Epoch [4/15], test Loss: 0.6964651455971107\n",
            "\t\tAverage Damage f1 score:\n",
            "\t\t\tClass 0: 0.9370646162568668\n",
            "\t\t\tClass 1: 0.6467141571117552\n",
            "\t\tMean Damage f1 score: 0.791889386684311\n",
            "Epoch [5/15], train Loss: 0.642177077080148\n",
            "Epoch [5/15], test Loss: 0.6537372406723668\n",
            "\t\tAverage Damage f1 score:\n",
            "\t\t\tClass 0: 0.9397294456754471\n",
            "\t\t\tClass 1: 0.6521962367881929\n",
            "\t\tMean Damage f1 score: 0.79596284123182\n",
            "Epoch [6/15], train Loss: 0.6185307460502668\n",
            "Epoch [6/15], test Loss: 0.5880875067996775\n",
            "\t\tAverage Damage f1 score:\n",
            "\t\t\tClass 0: 0.9307588131457696\n",
            "\t\t\tClass 1: 0.6515660535418258\n",
            "\t\tMean Damage f1 score: 0.7911624333437977\n",
            "Epoch [7/15], train Loss: 0.5901139328238282\n",
            "Epoch [7/15], test Loss: 0.5598286589412158\n",
            "\t\tAverage Damage f1 score:\n",
            "\t\t\tClass 0: 0.9289103343823526\n",
            "\t\t\tClass 1: 0.6560775232618876\n",
            "\t\tMean Damage f1 score: 0.7924939288221201\n",
            "Epoch [8/15], train Loss: 0.5682245879039759\n",
            "Epoch [8/15], test Loss: 0.5902315353938803\n",
            "\t\tAverage Damage f1 score:\n",
            "\t\t\tClass 0: 0.9054093786868088\n",
            "\t\t\tClass 1: 0.608146963432886\n",
            "\t\tMean Damage f1 score: 0.7567781710598473\n",
            "Epoch [9/15], train Loss: 0.5481780526115452\n",
            "Epoch [9/15], test Loss: 0.5465481042606672\n",
            "\t\tAverage Damage f1 score:\n",
            "\t\t\tClass 0: 0.9457382680486582\n",
            "\t\t\tClass 1: 0.6884328215073617\n",
            "\t\tMean Damage f1 score: 0.81708554477801\n",
            "Epoch [10/15], train Loss: 0.5343560270110639\n",
            "Epoch [10/15], test Loss: 0.5746781356010499\n",
            "\t\tAverage Damage f1 score:\n",
            "\t\t\tClass 0: 0.9083698965465247\n",
            "\t\t\tClass 1: 0.6187027683945573\n",
            "\t\tMean Damage f1 score: 0.763536332470541\n",
            "Epoch [11/15], train Loss: 0.5185000101166267\n",
            "Epoch [11/15], test Loss: 0.7148400389726973\n",
            "\t\tAverage Damage f1 score:\n",
            "\t\t\tClass 0: 0.8816777029099373\n",
            "\t\t\tClass 1: 0.5663128531925067\n",
            "\t\tMean Damage f1 score: 0.723995278051222\n",
            "Epoch [12/15], train Loss: 0.5074884636688973\n",
            "Epoch [12/15], test Loss: 0.5410821266807376\n",
            "\t\tAverage Damage f1 score:\n",
            "\t\t\tClass 0: 0.9353087059155637\n",
            "\t\t\tClass 1: 0.6639412917259068\n",
            "\t\tMean Damage f1 score: 0.7996249988207352\n",
            "Epoch [13/15], train Loss: 0.4945697300415586\n",
            "Epoch [13/15], test Loss: 0.5251935975390788\n",
            "\t\tAverage Damage f1 score:\n",
            "\t\t\tClass 0: 0.9452924701059489\n",
            "\t\t\tClass 1: 0.6892151271468967\n",
            "\t\tMean Damage f1 score: 0.8172537986264228\n",
            "Epoch [14/15], train Loss: 0.4847433082080603\n",
            "Epoch [14/15], test Loss: 0.5175078227254513\n",
            "\t\tAverage Damage f1 score:\n",
            "\t\t\tClass 0: 0.9292687860675313\n",
            "\t\t\tClass 1: 0.6614665056129018\n",
            "\t\tMean Damage f1 score: 0.7953676458402166\n",
            "Epoch [15/15], train Loss: 0.4723417575991167\n",
            "Epoch [15/15], test Loss: 0.563628840688975\n",
            "\t\tAverage Damage f1 score:\n",
            "\t\t\tClass 0: 0.9325392070473623\n",
            "\t\t\tClass 1: 0.6547498631307718\n",
            "\t\tMean Damage f1 score: 0.7936445350890671\n"
          ]
        }
      ]
    },
    {
      "cell_type": "code",
      "source": [
        "from pathlib import Path\n",
        "\n",
        "# Setup\n",
        "data_path = Path(\"/content/drive/MyDrive/thesis_data\")\n",
        "model_path = data_path / \"models\""
      ],
      "metadata": {
        "id": "7RYTS2LgA6rt"
      },
      "execution_count": null,
      "outputs": []
    },
    {
      "cell_type": "code",
      "source": [
        "# Plot the learning curve\n",
        "epochs = range(1, num_epochs+1)\n",
        "plt.plot(epochs, train_losses, label='Training Loss')\n",
        "plt.plot(epochs, val_losses, label='Testing Loss')\n",
        "plt.xlabel('Epoch')\n",
        "plt.ylabel('Loss')\n",
        "plt.title('UNet++ Learning Curve')\n",
        "plt.legend()\n",
        "\n",
        "# Save the plot as an image file\n",
        "plot_name = \"UNETPP_loss.png\"\n",
        "plot_save_path = model_path / plot_name\n",
        "plt.savefig(plot_save_path)"
      ],
      "metadata": {
        "id": "L8keIA1QF6BL",
        "colab": {
          "base_uri": "https://localhost:8080/",
          "height": 472
        },
        "outputId": "9a4b4516-ff60-4158-d678-44d64c3bb5ba"
      },
      "execution_count": null,
      "outputs": [
        {
          "output_type": "display_data",
          "data": {
            "text/plain": [
              "<Figure size 640x480 with 1 Axes>"
            ],
            "image/png": "[encoded data removed]"
          },
          "metadata": {}
        }
      ]
    },
    {
      "cell_type": "code",
      "source": [
        "model_name = 'UNETPP_model.pth'\n",
        "model_save_path = model_path / model_name\n",
        "torch.save(model.state_dict(), model_save_path)"
      ],
      "metadata": {
        "id": "QNddL7bJTY02"
      },
      "execution_count": null,
      "outputs": []
    }
  ]
}