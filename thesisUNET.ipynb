{
  "nbformat": 4,
  "nbformat_minor": 0,
  "metadata": {
    "colab": {
      "provenance": [],
      "machine_shape": "hm",
      "gpuType": "L4",
      "authorship_tag": "ABX9TyN3ki8UtI121JXINDx3hlqu",
      "include_colab_link": true
    },
    "kernelspec": {
      "name": "python3",
      "display_name": "Python 3"
    },
    "language_info": {
      "name": "python"
    },
    "accelerator": "GPU"
  },
  "cells": [
    {
      "cell_type": "markdown",
      "metadata": {
        "id": "view-in-github",
        "colab_type": "text"
      },
      "source": [
        "<a href=\"https://colab.research.google.com/github/nanotnam/thesis/blob/main/thesisUNET.ipynb\" target=\"_parent\"><img src=\"https://colab.research.google.com/assets/colab-badge.svg\" alt=\"Open In Colab\"/></a>"
      ]
    },
    {
      "cell_type": "code",
      "execution_count": null,
      "metadata": {
        "colab": {
          "base_uri": "https://localhost:8080/"
        },
        "id": "DLfWYzm78mUQ",
        "outputId": "3165791c-8955-4e1c-964b-88c613b7da61"
      },
      "outputs": [
        {
          "output_type": "stream",
          "name": "stdout",
          "text": [
            "Fri Jun 28 07:21:17 2024       \n",
            "+---------------------------------------------------------------------------------------+\n",
            "| NVIDIA-SMI 535.104.05             Driver Version: 535.104.05   CUDA Version: 12.2     |\n",
            "|-----------------------------------------+----------------------+----------------------+\n",
            "| GPU  Name                 Persistence-M | Bus-Id        Disp.A | Volatile Uncorr. ECC |\n",
            "| Fan  Temp   Perf          Pwr:Usage/Cap |         Memory-Usage | GPU-Util  Compute M. |\n",
            "|                                         |                      |               MIG M. |\n",
            "|=========================================+======================+======================|\n",
            "|   0  NVIDIA L4                      Off | 00000000:00:03.0 Off |                    0 |\n",
            "| N/A   47C    P0              28W /  72W |   4751MiB / 23034MiB |      0%      Default |\n",
            "|                                         |                      |                  N/A |\n",
            "+-----------------------------------------+----------------------+----------------------+\n",
            "                                                                                         \n",
            "+---------------------------------------------------------------------------------------+\n",
            "| Processes:                                                                            |\n",
            "|  GPU   GI   CI        PID   Type   Process name                            GPU Memory |\n",
            "|        ID   ID                                                             Usage      |\n",
            "|=======================================================================================|\n",
            "+---------------------------------------------------------------------------------------+\n"
          ]
        }
      ],
      "source": [
        "!nvidia-smi"
      ]
    },
    {
      "cell_type": "code",
      "source": [
        "from google.colab import drive\n",
        "drive.mount('/content/drive', force_remount=True)"
      ],
      "metadata": {
        "colab": {
          "base_uri": "https://localhost:8080/"
        },
        "id": "AohbnQXe-YuB",
        "outputId": "604379f6-5152-4875-ed53-1d5ff3bc5dde"
      },
      "execution_count": null,
      "outputs": [
        {
          "output_type": "stream",
          "name": "stdout",
          "text": [
            "Mounted at /content/drive\n"
          ]
        }
      ]
    },
    {
      "cell_type": "code",
      "source": [
        "import zipfile\n",
        "\n",
        "with zipfile.ZipFile(\"/content/drive/MyDrive/thesis_data/train_finall.zip\", 'r') as zip_ref:\n",
        "    zip_ref.extractall('train_set')"
      ],
      "metadata": {
        "id": "RgZkmJCE-a87"
      },
      "execution_count": null,
      "outputs": []
    },
    {
      "cell_type": "code",
      "source": [
        "import os\n",
        "from PIL import Image\n",
        "import torch\n",
        "from torch.utils.data import Dataset, DataLoader, random_split\n",
        "from torchvision import transforms\n",
        "import torch.nn as nn\n",
        "import torch.optim as optim\n",
        "import torch.nn.functional as F\n",
        "import numpy as np\n",
        "import matplotlib.pyplot as plt\n",
        "from sklearn.metrics import f1_score\n",
        "from torch.optim.lr_scheduler import ReduceLROnPlateau"
      ],
      "metadata": {
        "id": "ZLiiJtdl8thm"
      },
      "execution_count": null,
      "outputs": []
    },
    {
      "cell_type": "code",
      "source": [
        "class BuildingDamageDataset(Dataset):\n",
        "    def __init__(self, pre_dir, post_dir, seg_pre, seg_post, damage, transform=None):\n",
        "        self.pre_dir = pre_dir\n",
        "        self.post_dir = post_dir\n",
        "        self.seg_pre = seg_pre\n",
        "        self.seg_post = seg_post\n",
        "        self.damage = damage\n",
        "        self.transform = transform\n",
        "        self.image_ids = [file for file in os.listdir(pre_dir) if file.endswith('.png')]\n",
        "\n",
        "    def __len__(self):\n",
        "        return len(self.image_ids)\n",
        "\n",
        "    def __getitem__(self, idx):\n",
        "        if torch.is_tensor(idx):\n",
        "            idx = idx.tolist()\n",
        "\n",
        "        image_id = self.image_ids[idx]\n",
        "\n",
        "        pre_image = Image.open(os.path.join(self.pre_dir, image_id)).convert('RGB')\n",
        "        post_image = Image.open(os.path.join(self.post_dir, image_id)).convert('RGB')\n",
        "        seg_pre_image = Image.open(os.path.join(self.seg_pre, image_id)).convert('L')\n",
        "        seg_post_image = Image.open(os.path.join(self.seg_post, image_id)).convert('L')\n",
        "        damage = Image.open(os.path.join(self.damage, image_id)).convert('L')  # Load as grayscale\n",
        "\n",
        "        if self.transform:\n",
        "            pre_image = self.transform(pre_image)\n",
        "            post_image = self.transform(post_image)\n",
        "        seg_pre_image = self._process_seg_image(seg_pre_image)\n",
        "        seg_post_image = self._process_seg_image(seg_post_image)\n",
        "        damage = self._process_gt_image(damage)\n",
        "\n",
        "        return {'pre_image': pre_image, 'post_image': post_image, 'pre_mask': seg_pre_image, 'post_mask': seg_post_image, 'damage': damage}\n",
        "\n",
        "    def _process_gt_image(self, gt_image):\n",
        "        gt_image = np.array(gt_image)\n",
        "        gt_image = torch.tensor(gt_image, dtype=torch.long)\n",
        "        gt_image = gt_image - 1\n",
        "        return gt_image\n",
        "\n",
        "    def _process_seg_image(self, seg_image):\n",
        "        seg_image = np.array(seg_image)\n",
        "        seg_image = torch.tensor(seg_image, dtype=torch.long)\n",
        "        return seg_image\n",
        "\n",
        "# Define transformations\n",
        "data_transforms = transforms.Compose([\n",
        "  transforms.ToTensor(),\n",
        "])"
      ],
      "metadata": {
        "id": "ADNYr6aG93aw"
      },
      "execution_count": null,
      "outputs": []
    },
    {
      "cell_type": "code",
      "source": [
        "class DoubleConv(nn.Module):\n",
        "  def __init__(self, in_channels, out_channels):\n",
        "    super().__init__()\n",
        "    self.conv_op = nn.Sequential(\n",
        "        nn.Conv2d(in_channels, out_channels, kernel_size=3, padding=1),\n",
        "        # nn.BatchNorm2d(out_channels),\n",
        "        nn.ReLU(inplace=True),\n",
        "        nn.Conv2d(out_channels, out_channels, kernel_size=3, padding=1),\n",
        "        # nn.BatchNorm2d(out_channels),\n",
        "        nn.ReLU(inplace=True)\n",
        "    )\n",
        "\n",
        "  def forward(self, x):\n",
        "    return self.conv_op(x)\n",
        "\n",
        "class DownSample(nn.Module):\n",
        "  def __init__(self, in_channels, out_channels):\n",
        "    super().__init__()\n",
        "    self.conv = DoubleConv(in_channels, out_channels)\n",
        "    self.pool = nn.MaxPool2d(kernel_size=2, stride=2)\n",
        "\n",
        "  def forward(self, x):\n",
        "    down = self.conv(x)\n",
        "    p = self.pool(down)\n",
        "\n",
        "    return down, p\n",
        "\n",
        "class UpSample(nn.Module):\n",
        "  def __init__(self, in_channels, out_channels):\n",
        "    super().__init__()\n",
        "    self.up = nn.ConvTranspose2d(in_channels, in_channels//2, kernel_size=2, stride=2)\n",
        "    self.conv = DoubleConv(in_channels, out_channels)\n",
        "\n",
        "  def forward(self, x1, x2):\n",
        "    x1 = self.up(x1)\n",
        "    x = torch.cat([x1, x2], 1)\n",
        "    return self.conv(x)\n",
        "\n",
        "class UNet(nn.Module):\n",
        "  def __init__(self, in_channels, num_classes):\n",
        "    super().__init__()\n",
        "    self.down_convolution_1 = DownSample(in_channels, 16)\n",
        "    self.down_convolution_2 = DownSample(16, 32)\n",
        "    self.down_convolution_3 = DownSample(32, 64)\n",
        "    self.down_convolution_4 = DownSample(64, 128)\n",
        "\n",
        "    self.bottle_neck = DoubleConv(128, 256)\n",
        "\n",
        "    self.up_convolution_1 = UpSample(256, 128)\n",
        "    self.up_convolution_2 = UpSample(128, 64)\n",
        "    self.up_convolution_3 = UpSample(64, 32)\n",
        "    self.up_convolution_4 = UpSample(32, 16)\n",
        "\n",
        "    self.out = nn.Conv2d(in_channels=16, out_channels=num_classes, kernel_size=1)\n",
        "\n",
        "  def forward(self, x):\n",
        "    down_1, p1 = self.down_convolution_1(x)\n",
        "    down_2, p2 = self.down_convolution_2(p1)\n",
        "    down_3, p3 = self.down_convolution_3(p2)\n",
        "    down_4, p4 = self.down_convolution_4(p3)\n",
        "\n",
        "    b = self.bottle_neck(p4)\n",
        "\n",
        "    up_1 = self.up_convolution_1(b, down_4)\n",
        "    up_2 = self.up_convolution_2(up_1, down_3)\n",
        "    up_3 = self.up_convolution_3(up_2, down_2)\n",
        "    up_4 = self.up_convolution_4(up_3, down_1)\n",
        "\n",
        "    out = self.out(up_4)\n",
        "    return out"
      ],
      "metadata": {
        "id": "yVTW1VTe8vlT"
      },
      "execution_count": null,
      "outputs": []
    },
    {
      "cell_type": "code",
      "source": [
        "class PrePostUNet(nn.Module):\n",
        "    def __init__(self, in_channels, num_classes):\n",
        "        super().__init__()\n",
        "        self.unet = UNet(in_channels, num_classes)\n",
        "        self.damage_head = nn.Sequential(\n",
        "            nn.Conv2d(4, 16, 3, padding=1),\n",
        "            nn.BatchNorm2d(16),\n",
        "            nn.ReLU(inplace=True),\n",
        "            nn.Conv2d(16, num_classes, 3, padding=1),\n",
        "            nn.BatchNorm2d(num_classes),\n",
        "            nn.ReLU(inplace=True)\n",
        "        )\n",
        "\n",
        "    def forward(self, pre_image, post_image):\n",
        "        out1 = self.unet(pre_image)\n",
        "        out2 = self.unet(post_image)\n",
        "        out = self.damage_head(torch.cat((out1, out2), dim=1))\n",
        "        return out1, out2, out"
      ],
      "metadata": {
        "id": "BIP0Dgxg9KhT"
      },
      "execution_count": null,
      "outputs": []
    },
    {
      "cell_type": "code",
      "source": [
        "# Initialize dataset\n",
        "train_pre_dir = '/content/train_set/pre'\n",
        "train_post_dir = '/content/train_set/post'\n",
        "train_seg_pre = '/content/train_set/seg_pre'\n",
        "train_seg_post = '/content/train_set/seg_post'\n",
        "train_damage = '/content/train_set/damage'"
      ],
      "metadata": {
        "id": "kj1_4nDz97vH"
      },
      "execution_count": null,
      "outputs": []
    },
    {
      "cell_type": "code",
      "source": [
        "dataset = BuildingDamageDataset(train_pre_dir, train_post_dir, train_seg_pre, train_seg_post, train_damage, transform=data_transforms)\n",
        "train_size = int(0.8 * len(dataset))\n",
        "test_size = len(dataset) - train_size\n",
        "generator1 = torch.Generator().manual_seed(42)\n",
        "# Split the dataset\n",
        "train_dataset, test_dataset = torch.utils.data.random_split(dataset, [train_size, test_size], generator=generator1)\n",
        "train_loader = torch.utils.data.DataLoader(train_dataset, batch_size=32, shuffle=True, num_workers=4)\n",
        "test_loader = torch.utils.data.DataLoader(test_dataset, batch_size=32, shuffle=False, num_workers=4)\n",
        "\n",
        "\n",
        "# Define the model (assuming UNet from the previous implementation)\n",
        "model = PrePostUNet(in_channels=3, num_classes=2)\n",
        "device = torch.device('cuda' if torch.cuda.is_available() else 'cpu')\n",
        "model.to(device)\n",
        "\n",
        "class_weights = [0.16549766, 0.83450234]\n",
        "\n",
        "# Convert weights to a tensor\n",
        "class_weights_tensor = torch.FloatTensor(class_weights).to(device)\n",
        "\n",
        "# Define loss function and optimizer\n",
        "loss_fn = nn.CrossEntropyLoss(weight=class_weights_tensor, ignore_index = -1)\n",
        "optimizer = optim.Adam(model.parameters(), lr=0.001)\n",
        "scheduler = ReduceLROnPlateau(optimizer, mode='min', factor=0.2, patience=3, min_lr=0.00001)"
      ],
      "metadata": {
        "id": "-0C5LT2k98yr"
      },
      "execution_count": null,
      "outputs": []
    },
    {
      "cell_type": "code",
      "source": [
        "num_epochs = 15\n",
        "train_losses = []\n",
        "val_losses = []\n",
        "for epoch in range(num_epochs):\n",
        "  model.train()\n",
        "  running_loss = 0.0\n",
        "  for batch_idx, batch in enumerate(train_loader):\n",
        "    pre_images = batch['pre_image'].to(device)\n",
        "    post_images = batch['post_image'].to(device)\n",
        "    seg_pre_images = batch['pre_mask'].to(device).long().squeeze(1)\n",
        "    seg_post_images = batch['post_mask'].to(device).long().squeeze(1)\n",
        "    damage = batch['damage'].to(device).long().squeeze(1)  # Convert gt_images to long\n",
        "\n",
        "    # Forward pass\n",
        "    out1, out2, out = model(pre_images, post_images)\n",
        "\n",
        "    # Calculate loss\n",
        "    loss1 = loss_fn(out1, seg_pre_images)\n",
        "    loss2 = loss_fn(out2, seg_post_images)\n",
        "    damage_loss = loss_fn(out, damage)\n",
        "\n",
        "    loss = loss1 + loss2 + damage_loss\n",
        "\n",
        "    # if torch.isnan(loss):\n",
        "    #   print('NaN detected in loss')\n",
        "    #   break\n",
        "    running_loss += loss.item()\n",
        "\n",
        "    optimizer.zero_grad()\n",
        "\n",
        "    # Backward pass and optimize\n",
        "    loss.backward()\n",
        "\n",
        "    optimizer.step()\n",
        "\n",
        "    # if (batch_idx + 1) % 10 == 0:  # Print progress every 100 batches\n",
        "    #   print(f'looked at [{batch_idx + 1}/{len(train_loader)}], Loss: {loss.item()}')\n",
        "\n",
        "\n",
        "  epoch_loss = running_loss / len(train_loader)\n",
        "  print(f'Epoch [{epoch + 1}/{num_epochs}], train Loss: {epoch_loss}')\n",
        "  train_losses.append(epoch_loss)\n",
        "  # Validation loop\n",
        "  model.eval()\n",
        "  val_running_loss = 0.0\n",
        "  dam_f1 = 0\n",
        "\n",
        "  with torch.inference_mode():\n",
        "    for batch in test_loader:\n",
        "      val_pre_images = batch['pre_image'].to(device)\n",
        "      val_post_images = batch['post_image'].to(device)\n",
        "      val_seg_pre_images = batch['pre_mask'].to(device).long().squeeze(1)\n",
        "      val_seg_post_images = batch['post_mask'].to(device).long().squeeze(1)\n",
        "      val_damage = batch['damage'].to(device).long().squeeze(1)  # Convert gt_images to long\n",
        "\n",
        "      val_out1, val_out2, val_out = model(val_pre_images, val_post_images)\n",
        "      val_loss1 = loss_fn(val_out1, val_seg_pre_images)\n",
        "      val_loss2 = loss_fn(val_out2, val_seg_post_images)\n",
        "      val_damage_loss = loss_fn(val_out, val_damage)\n",
        "\n",
        "      val_loss = val_loss1 + val_loss2 + val_damage_loss\n",
        "      val_running_loss += val_loss.item()\n",
        "\n",
        "\n",
        "      # Calculate the accuracies\n",
        "      pred_labels_damage = torch.argmax(val_out, dim=1).squeeze().cpu().numpy().flatten()\n",
        "      truth_labels_damage = val_damage.cpu().numpy().flatten()\n",
        "\n",
        "      damage_f1 = f1_score(truth_labels_damage[truth_labels_damage != -1], pred_labels_damage[truth_labels_damage != -1], labels = [0, 1], average=None, zero_division = 0)\n",
        "\n",
        "      dam_f1 += damage_f1\n",
        "  scheduler.step(val_running_loss)\n",
        "  avg_val_loss = val_running_loss / len(test_loader)\n",
        "  val_losses.append(avg_val_loss)\n",
        "  overall_f1 = dam_f1/len(test_loader)\n",
        "\n",
        "  print(f'Epoch [{epoch + 1}/{num_epochs}], test Loss: {avg_val_loss}')\n",
        "  print('\\t\\tAverage Damage f1 score:')\n",
        "  for i, f1 in enumerate(overall_f1):\n",
        "    print(f'\\t\\t\\tClass {i}: {f1}')\n",
        "  print(f'\\t\\tMean Damage f1 score: {np.mean(overall_f1)}')\n"
      ],
      "metadata": {
        "id": "7RYTS2LgA6rt",
        "colab": {
          "base_uri": "https://localhost:8080/"
        },
        "outputId": "704ddcf3-6708-4ecf-efab-d28f4ac65e17"
      },
      "execution_count": null,
      "outputs": [
        {
          "output_type": "stream",
          "name": "stdout",
          "text": [
            "Epoch [1/15], train Loss: 1.3007013984304021\n",
            "Epoch [1/15], test Loss: 1.0607041251991238\n",
            "\t\tAverage Damage f1 score:\n",
            "\t\t\tClass 0: 0.8576329169479966\n",
            "\t\t\tClass 1: 0.412200217150279\n",
            "\t\tMean Damage f1 score: 0.6349165670491378\n",
            "Epoch [2/15], train Loss: 1.0555107232586491\n",
            "Epoch [2/15], test Loss: 1.0017194603699433\n",
            "\t\tAverage Damage f1 score:\n",
            "\t\t\tClass 0: 0.8376506549168181\n",
            "\t\t\tClass 1: 0.44518602024348114\n",
            "\t\tMean Damage f1 score: 0.6414183375801497\n",
            "Epoch [3/15], train Loss: 0.9624402086866375\n",
            "Epoch [3/15], test Loss: 0.9172622874793965\n",
            "\t\tAverage Damage f1 score:\n",
            "\t\t\tClass 0: 0.9150761270061308\n",
            "\t\t\tClass 1: 0.5146613570789966\n",
            "\t\tMean Damage f1 score: 0.7148687420425637\n",
            "Epoch [4/15], train Loss: 0.8779716468061792\n",
            "Epoch [4/15], test Loss: 0.8135295539009495\n",
            "\t\tAverage Damage f1 score:\n",
            "\t\t\tClass 0: 0.8923891085581592\n",
            "\t\t\tClass 1: 0.5351955590454752\n",
            "\t\tMean Damage f1 score: 0.7137923338018173\n",
            "Epoch [5/15], train Loss: 0.8109364303633458\n",
            "Epoch [5/15], test Loss: 0.7993056329976312\n",
            "\t\tAverage Damage f1 score:\n",
            "\t\t\tClass 0: 0.9018818504309011\n",
            "\t\t\tClass 1: 0.5393793620093995\n",
            "\t\tMean Damage f1 score: 0.7206306062201503\n",
            "Epoch [6/15], train Loss: 0.7720700066221233\n",
            "Epoch [6/15], test Loss: 0.7185588784723261\n",
            "\t\tAverage Damage f1 score:\n",
            "\t\t\tClass 0: 0.9204567665527894\n",
            "\t\t\tClass 1: 0.5925960539442464\n",
            "\t\tMean Damage f1 score: 0.7565264102485179\n",
            "Epoch [7/15], train Loss: 0.7334973637936966\n",
            "Epoch [7/15], test Loss: 0.7069411698960135\n",
            "\t\tAverage Damage f1 score:\n",
            "\t\t\tClass 0: 0.9300811679059066\n",
            "\t\t\tClass 1: 0.616977233035983\n",
            "\t\tMean Damage f1 score: 0.7735292004709448\n",
            "Epoch [8/15], train Loss: 0.700714033548216\n",
            "Epoch [8/15], test Loss: 0.6861618194386075\n",
            "\t\tAverage Damage f1 score:\n",
            "\t\t\tClass 0: 0.9158573620070127\n",
            "\t\t\tClass 1: 0.5956980871112157\n",
            "\t\tMean Damage f1 score: 0.7557777245591142\n",
            "Epoch [9/15], train Loss: 0.6632449009714275\n",
            "Epoch [9/15], test Loss: 0.6578227541303737\n",
            "\t\tAverage Damage f1 score:\n",
            "\t\t\tClass 0: 0.9309097069335575\n",
            "\t\t\tClass 1: 0.6293108870710786\n",
            "\t\tMean Damage f1 score: 0.780110297002318\n",
            "Epoch [10/15], train Loss: 0.653052759595367\n",
            "Epoch [10/15], test Loss: 0.6990516382315429\n",
            "\t\tAverage Damage f1 score:\n",
            "\t\t\tClass 0: 0.9273029399339049\n",
            "\t\t\tClass 1: 0.6135265332553423\n",
            "\t\tMean Damage f1 score: 0.7704147365946237\n",
            "Epoch [11/15], train Loss: 0.6253112831012229\n",
            "Epoch [11/15], test Loss: 0.6683055720186336\n",
            "\t\tAverage Damage f1 score:\n",
            "\t\t\tClass 0: 0.9079665933899209\n",
            "\t\t\tClass 1: 0.5884944936482869\n",
            "\t\tMean Damage f1 score: 0.7482305435191039\n",
            "Epoch [12/15], train Loss: 0.604560503981696\n",
            "Epoch [12/15], test Loss: 0.6438714553635942\n",
            "\t\tAverage Damage f1 score:\n",
            "\t\t\tClass 0: 0.9140693024318836\n",
            "\t\t\tClass 1: 0.600718231843027\n",
            "\t\tMean Damage f1 score: 0.7573937671374553\n",
            "Epoch [13/15], train Loss: 0.5833495618318311\n",
            "Epoch [13/15], test Loss: 0.6256660297672549\n",
            "\t\tAverage Damage f1 score:\n",
            "\t\t\tClass 0: 0.9252257962992051\n",
            "\t\t\tClass 1: 0.6277074925268271\n",
            "\t\tMean Damage f1 score: 0.7764666444130162\n",
            "Epoch [14/15], train Loss: 0.5715679419561343\n",
            "Epoch [14/15], test Loss: 0.6111287026321096\n",
            "\t\tAverage Damage f1 score:\n",
            "\t\t\tClass 0: 0.932149137368135\n",
            "\t\t\tClass 1: 0.6455078193973971\n",
            "\t\tMean Damage f1 score: 0.788828478382766\n",
            "Epoch [15/15], train Loss: 0.5589587824361245\n",
            "Epoch [15/15], test Loss: 0.6265368249418904\n",
            "\t\tAverage Damage f1 score:\n",
            "\t\t\tClass 0: 0.9277643679909788\n",
            "\t\t\tClass 1: 0.6329251578999168\n",
            "\t\tMean Damage f1 score: 0.7803447629454479\n"
          ]
        }
      ]
    },
    {
      "cell_type": "code",
      "source": [
        "from pathlib import Path\n",
        "\n",
        "# Setup\n",
        "data_path = Path(\"/content/drive/MyDrive/thesis_data\")\n",
        "model_path = data_path / \"models\""
      ],
      "metadata": {
        "id": "mx03z-l1q1HQ"
      },
      "execution_count": null,
      "outputs": []
    },
    {
      "cell_type": "code",
      "source": [
        "# Plot the learning curve\n",
        "epochs = range(1, num_epochs+1)\n",
        "plt.plot(epochs, train_losses, label='Training Loss')\n",
        "plt.plot(epochs, val_losses, label='Testing Loss')\n",
        "plt.xlabel('Epoch')\n",
        "plt.ylabel('Loss')\n",
        "plt.title('UNet Learning Curve')\n",
        "plt.legend()\n",
        "\n",
        "# Save the plot as an image file\n",
        "plot_name = \"UNET_loss.png\"\n",
        "plot_save_path = model_path / plot_name\n",
        "plt.savefig(plot_save_path)"
      ],
      "metadata": {
        "colab": {
          "base_uri": "https://localhost:8080/",
          "height": 472
        },
        "id": "N9QvE-E17-IG",
        "outputId": "c42d75c6-b041-4e3b-a06d-c7c4a9a82c42"
      },
      "execution_count": null,
      "outputs": [
        {
          "output_type": "display_data",
          "data": {
            "text/plain": [
              "<Figure size 640x480 with 1 Axes>"
            ],
            "image/png": "[encoded data removed]"
          },
          "metadata": {}
        }
      ]
    },
    {
      "cell_type": "code",
      "source": [
        "model_name = 'UNET_model.pth'\n",
        "model_save_path = model_path / model_name\n",
        "torch.save(model.state_dict(), model_save_path)"
      ],
      "metadata": {
        "id": "AttyCNYg8LgE"
      },
      "execution_count": null,
      "outputs": []
    }
  ]
}